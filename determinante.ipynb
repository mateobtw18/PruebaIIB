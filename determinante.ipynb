{
 "cells": [
  {
   "cell_type": "code",
   "execution_count": 5,
   "metadata": {},
   "outputs": [
    {
     "name": "stdout",
     "output_type": "stream",
     "text": [
      "The autoreload extension is already loaded. To reload it, use:\n",
      "  %reload_ext autoreload\n"
     ]
    }
   ],
   "source": [
    "%load_ext autoreload"
   ]
  },
  {
   "cell_type": "markdown",
   "metadata": {},
   "source": [
    "# Examen"
   ]
  },
  {
   "cell_type": "markdown",
   "metadata": {},
   "source": [
    "## Cambios\n",
    "\n",
    "* Se utiliza el metodo eliminación gaussiana modificado, solamente para escalonar la matriz.\n",
    "\n",
    "* Se considera el intercambio de fila, que cambia el signo del determinante.\n",
    "\n",
    "* Después se multiplica los numeros que haya en la diagonal."
   ]
  },
  {
   "cell_type": "code",
   "execution_count": 13,
   "metadata": {},
   "outputs": [],
   "source": [
    "import numpy as np\n",
    "\n",
    "def eliminacion_gaussiana_det(A: np.ndarray) -> tuple[np.ndarray, int]:\n",
    "    \"\"\"Realiza la eliminación Gaussiana para triangular una matriz y calcula el número de intercambios de filas realizados.\n",
    "\n",
    "    ## Parameters\n",
    "\n",
    "    ``A``: Matriz cuadrada de tamaño n x n.\n",
    "\n",
    "    ## Return\n",
    "\n",
    "    ``A``: Matriz triangular superior obtenida después de la eliminación Gaussiana.\n",
    "    ``num_intercambios``: Número de intercambios de filas realizados (para ajustar el signo del determinante).\n",
    "    \"\"\"\n",
    "    if not isinstance(A, np.ndarray):\n",
    "        A = np.array(A, dtype=float) \n",
    "    assert A.shape[0] == A.shape[1], \"La matriz A debe ser cuadrada.\"\n",
    "\n",
    "    n = A.shape[0]\n",
    "    num_intercambios = 0  # Contador de intercambios de filas\n",
    "\n",
    "    for i in range(n - 1):  \n",
    "        p = None\n",
    "        for pi in range(i, n):\n",
    "            if A[pi, i] != 0: \n",
    "                p = pi\n",
    "                break\n",
    "\n",
    "        if p is None:\n",
    "            raise ValueError(\"La matriz es singular. Det = 0.\")\n",
    "\n",
    "        if p != i:\n",
    "            A[[i, p]] = A[[p, i]]\n",
    "            num_intercambios += 1  \n",
    "\n",
    "        for j in range(i + 1, n):\n",
    "            m = A[j, i] / A[i, i]\n",
    "            A[j, i:] -= m * A[i, i:]\n",
    "\n",
    "    return A, num_intercambios\n",
    "\n",
    "\n",
    "def calc_determinante(A: list[list[float]]) -> float:\n",
    "    \"\"\"Calcula el determinante de una matriz cuadrada usando eliminación Gaussiana.\n",
    "\n",
    "    ## Parameters\n",
    "\n",
    "    ``A``: Matriz cuadrada de tamaño n x n.\n",
    "\n",
    "    ## Return\n",
    "\n",
    "    ``detA``: Determinante de la matriz A.\n",
    "    \"\"\"\n",
    "    A_triang, num_intercambios = eliminacion_gaussiana_det(A)\n",
    "\n",
    "    detA = 1 \n",
    "    for i in range(A_triang.shape[0]):\n",
    "        detA *= A_triang[i, i]\n",
    "    \n",
    "    detA *= (-1) ** num_intercambios\n",
    "\n",
    "    return detA"
   ]
  },
  {
   "cell_type": "markdown",
   "metadata": {},
   "source": [
    "# Ejercicio 1"
   ]
  },
  {
   "cell_type": "code",
   "execution_count": 14,
   "metadata": {},
   "outputs": [
    {
     "data": {
      "text/plain": [
       "np.float64(9912776.000000015)"
      ]
     },
     "execution_count": 14,
     "metadata": {},
     "output_type": "execute_result"
    }
   ],
   "source": [
    "A1 = [\n",
    "    [-4, 2, -4, -4, 1, 2, 5, 3, 5, 1],\n",
    "    [1, 0, 4, 3, 0, -2, 3, 0, 1, 5],\n",
    "    [5, 5, -4, 5, -4, 2, 2, 2, 4, 4],\n",
    "    [-1, 3, 4, -1, -4, 0, 5, 0, 0, 5],\n",
    "    [4, 1, 4, 2, 0, 0, 3, -1, 0, 2],\n",
    "    [2, -2, 1, -1, -2, -3, 2, -2, 4, -1],\n",
    "    [3, -2, -3, -2, -1, -3, 5, -1, 5, 0],\n",
    "    [3, 4, -3, 3, -2, 2, -4, -4, 1, 5],\n",
    "    [-4, 0, 3, 3, -3, -2, -2, 0, 5, -4],\n",
    "    [-2, 4, 4, -2, -1, 1, 5, -1, 3, -3],\n",
    "]\n",
    "calc_determinante(A1)"
   ]
  },
  {
   "cell_type": "markdown",
   "metadata": {},
   "source": [
    "# Ejercicio 2"
   ]
  },
  {
   "cell_type": "code",
   "execution_count": 15,
   "metadata": {},
   "outputs": [
    {
     "data": {
      "text/plain": [
       "np.float64(2341546.000000001)"
      ]
     },
     "execution_count": 15,
     "metadata": {},
     "output_type": "execute_result"
    }
   ],
   "source": [
    "A2 = [\n",
    "    [2, 2, 4, 5, -2, -3, 2, -2],\n",
    "    [-1, -1, 3, 2, 1, 1, -4, 4],\n",
    "    [2, 5, -3, -3, -2, 2, 5, 3],\n",
    "    [-2, -4, 0, 1, -1, 5, -4, -1],\n",
    "    [1, -2, -1, 5, 5, 2, 1, -2],\n",
    "    [5, 4, 0, 3, 4, -1, -3, -2],\n",
    "    [4, -4, 1, 2, 3, 3, -1, 3],\n",
    "    [-2, 1, -3, 0, 5, 4, 4, -4],\n",
    "]\n",
    "calc_determinante(A2)"
   ]
  }
 ],
 "metadata": {
  "kernelspec": {
   "display_name": "Python 3",
   "language": "python",
   "name": "python3"
  },
  "language_info": {
   "codemirror_mode": {
    "name": "ipython",
    "version": 3
   },
   "file_extension": ".py",
   "mimetype": "text/x-python",
   "name": "python",
   "nbconvert_exporter": "python",
   "pygments_lexer": "ipython3",
   "version": "3.12.7"
  }
 },
 "nbformat": 4,
 "nbformat_minor": 2
}
